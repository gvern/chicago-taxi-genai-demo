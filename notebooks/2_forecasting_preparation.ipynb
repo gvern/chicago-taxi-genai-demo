{
 "cells": [
  {
   "cell_type": "code",
   "execution_count": null,
   "metadata": {},
   "outputs": [],
   "source": [
    "# %% [code]\n",
    "import pandas as pd\n",
    "import numpy as np\n",
    "import matplotlib.pyplot as plt\n",
    "import seaborn as sns\n",
    "import yaml\n",
    "import os\n",
    "\n",
    "from src.data_processing import load_config, load_data, preprocess_data, sample_data\n",
    "\n",
    "# Configuration visuelle\n",
    "sns.set(style=\"whitegrid\", context=\"talk\")\n",
    "%matplotlib inline\n",
    "\n",
    "# Charger la configuration\n",
    "config = load_config(\"config/config.yaml\")\n",
    "print(\"Configuration chargée avec succès.\")\n"
   ]
  },
  {
   "cell_type": "code",
   "execution_count": null,
   "metadata": {},
   "outputs": [],
   "source": []
  }
 ],
 "metadata": {
  "kernelspec": {
   "display_name": "venv",
   "language": "python",
   "name": "python3"
  },
  "language_info": {
   "name": "python",
   "version": "3.12.8"
  }
 },
 "nbformat": 4,
 "nbformat_minor": 2
}
