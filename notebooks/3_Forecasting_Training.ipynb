{
 "cells": [
  {
   "cell_type": "markdown",
   "metadata": {},
   "source": [
    "🧠 Objectif :\n",
    "Lancer un entraînement AutoML Forecasting sur Vertex AI à partir de la table BQ préparée"
   ]
  },
  {
   "cell_type": "code",
   "execution_count": null,
   "metadata": {
    "vscode": {
     "languageId": "plaintext"
    }
   },
   "outputs": [],
   "source": [
    "import os\n",
    "from google.cloud import aiplatform\n",
    "import yaml\n",
    "from datetime import datetime\n"
   ]
  },
  {
   "cell_type": "markdown",
   "metadata": {},
   "source": [
    "=== 1. Initialisation Vertex AI ==="
   ]
  },
  {
   "cell_type": "code",
   "execution_count": null,
   "metadata": {
    "vscode": {
     "languageId": "plaintext"
    }
   },
   "outputs": [],
   "source": [
    "PROJECT_ID = \"avisia-certification-ml-yde\"\n",
    "REGION = \"us-central1\"\n",
    "BUCKET_URI = f\"gs://{PROJECT_ID}-vertex-bucket\"  # adapt if needed\n",
    "BQ_SOURCE_URI = \"bq://avisia-certification-ml-yde.chicago_taxis.demand_by_hour\"\n",
    "\n",
    "aiplatform.init(project=PROJECT_ID, location=REGION, staging_bucket=BUCKET_URI)"
   ]
  },
  {
   "cell_type": "markdown",
   "metadata": {},
   "source": [
    "# === 2. Chargement de la configuration ==="
   ]
  },
  {
   "cell_type": "code",
   "execution_count": null,
   "metadata": {
    "vscode": {
     "languageId": "plaintext"
    }
   },
   "outputs": [],
   "source": [
    "with open(\"config/pipeline_config.yaml\", \"r\") as f:\n",
    "    config = yaml.safe_load(f)\n",
    "\n",
    "forecast_config = config[\"forecasting\"]\n",
    "\n",
    "# Vérification des clés importantes\n",
    "time_column = forecast_config[\"time_column\"]\n",
    "target_column = forecast_config[\"target_column\"]\n",
    "context_column = forecast_config[\"context_column\"]\n",
    "forecast_horizon = forecast_config[\"forecast_horizon\"]\n",
    "window_size = forecast_config[\"window_size\"]"
   ]
  },
  {
   "cell_type": "markdown",
   "metadata": {},
   "source": [
    "# === 3. Création du dataset time series sur Vertex AI ===\n"
   ]
  },
  {
   "cell_type": "code",
   "execution_count": null,
   "metadata": {
    "vscode": {
     "languageId": "plaintext"
    }
   },
   "outputs": [],
   "source": [
    "dataset = aiplatform.TimeSeriesDataset.create(\n",
    "    display_name=\"chicago_taxi_demand\",\n",
    "    bq_source=BQ_SOURCE_URI,\n",
    "    time_column_spec_column_name=time_column,\n",
    ")\n",
    "\n",
    "print(\"✅ Dataset créé :\", dataset.resource_name)"
   ]
  },
  {
   "cell_type": "markdown",
   "metadata": {},
   "source": [
    "# === 4. Lancement du job d'entraînement AutoML Forecast ===\n"
   ]
  },
  {
   "cell_type": "code",
   "execution_count": null,
   "metadata": {
    "vscode": {
     "languageId": "plaintext"
    }
   },
   "outputs": [],
   "source": [
    "training_job = aiplatform.AutoMLForecastingTrainingJob(\n",
    "    display_name=\"taxi_demand_forecast_job\",\n",
    "    optimization_objective=\"minimize-rmse\",\n",
    "    column_transformations=[\n",
    "        {\"auto\": [target_column]},\n",
    "        {\"auto\": [context_column]},\n",
    "        {\"auto\": [time_column]},\n",
    "        {\"auto\": forecast_config[\"available_at_forecast_columns\"]},\n",
    "    ],\n",
    "    target_column=target_column,\n",
    "    time_column=time_column,\n",
    "    time_series_identifier_column=context_column,\n",
    "    unavailable_at_forecast_columns=forecast_config.get(\"unavailable_at_forecast_columns\", []),\n",
    "    available_at_forecast_columns=forecast_config[\"available_at_forecast_columns\"],\n",
    "    forecast_horizon=forecast_horizon,\n",
    "    context_window=window_size,\n",
    "    data_granularity_unit=\"hour\",\n",
    "    data_granularity_count=1,\n",
    "    export_evaluated_data_items=True,\n",
    ")\n",
    "\n",
    "model = training_job.run(\n",
    "    dataset=dataset,\n",
    "    training_fraction_split=0.8,\n",
    "    validation_fraction_split=0.1,\n",
    "    test_fraction_split=0.1,\n",
    "    model_display_name=f\"taxi_demand_model_{datetime.now().strftime('%Y%m%d_%H%M')}\",\n",
    "    sync=True,\n",
    ")\n",
    "\n",
    "print(\"✅ Modèle entraîné :\", model.resource_name)"
   ]
  }
 ],
 "metadata": {
  "language_info": {
   "name": "python"
  }
 },
 "nbformat": 4,
 "nbformat_minor": 2
}
