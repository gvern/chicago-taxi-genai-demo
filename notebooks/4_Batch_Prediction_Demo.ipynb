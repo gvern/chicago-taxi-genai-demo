{
 "cells": [
  {
   "cell_type": "markdown",
   "metadata": {},
   "source": [
    "# 🧪 Objectif :\n",
    "# - Lancer une prédiction batch Vertex AI Forecast sur des données futures\n",
    "# - Visualiser les résultats"
   ]
  },
  {
   "cell_type": "code",
   "execution_count": null,
   "metadata": {
    "vscode": {
     "languageId": "plaintext"
    }
   },
   "outputs": [],
   "source": [
    "import os\n",
    "from google.cloud import aiplatform\n",
    "import pandas as pd"
   ]
  },
  {
   "cell_type": "markdown",
   "metadata": {},
   "source": [
    "# === 1. Initialisation ==="
   ]
  },
  {
   "cell_type": "code",
   "execution_count": null,
   "metadata": {
    "vscode": {
     "languageId": "plaintext"
    }
   },
   "outputs": [],
   "source": [
    "PROJECT_ID = \"avisia-certification-ml-yde\"\n",
    "REGION = \"us-central1\"\n",
    "BUCKET_URI = f\"gs://{PROJECT_ID}-vertex-bucket\"\n",
    "BQ_INPUT = \"bq://avisia-certification-ml-yde.chicago_taxis.forecast_input\"   # table contenant les timestamps futurs\n",
    "BQ_OUTPUT = \"bq://avisia-certification-ml-yde.chicago_taxis.forecast_output\"\n",
    "\n",
    "aiplatform.init(project=PROJECT_ID, location=REGION, staging_bucket=BUCKET_URI)"
   ]
  },
  {
   "cell_type": "markdown",
   "metadata": {},
   "source": [
    "# === 2. Chargement du modèle entraîné ===\n"
   ]
  },
  {
   "cell_type": "code",
   "execution_count": null,
   "metadata": {
    "vscode": {
     "languageId": "plaintext"
    }
   },
   "outputs": [],
   "source": [
    "model = aiplatform.Model.list(\n",
    "    filter='display_name=\"taxi_demand_model\"',\n",
    "    order_by=\"update_time desc\"\n",
    ")[0]\n",
    "\n",
    "print(\"✅ Dernier modèle entraîné :\", model.display_name)"
   ]
  },
  {
   "cell_type": "markdown",
   "metadata": {},
   "source": [
    "# === 3. Lancement du job de prédiction batch ===\n"
   ]
  },
  {
   "cell_type": "code",
   "execution_count": null,
   "metadata": {
    "vscode": {
     "languageId": "plaintext"
    }
   },
   "outputs": [],
   "source": [
    "batch_job = model.batch_predict(\n",
    "    job_display_name=\"batch_pred_taxi_demand\",\n",
    "    instances_format=\"bigquery\",\n",
    "    predictions_format=\"bigquery\",\n",
    "    bigquery_source=BQ_INPUT,\n",
    "    bigquery_destination_prefix=BQ_OUTPUT,\n",
    "    sync=True,\n",
    ")\n",
    "\n",
    "print(\"✅ Prédictions enregistrées dans :\", BQ_OUTPUT)"
   ]
  },
  {
   "cell_type": "markdown",
   "metadata": {},
   "source": [
    "# === 4. Analyse des résultats (optionnel si output vers BigQuery) ===\n"
   ]
  },
  {
   "cell_type": "code",
   "execution_count": null,
   "metadata": {
    "vscode": {
     "languageId": "plaintext"
    }
   },
   "outputs": [],
   "source": [
    "from google.cloud import bigquery\n",
    "\n",
    "client = bigquery.Client(project=PROJECT_ID)\n",
    "\n",
    "query = \"\"\"\n",
    "SELECT\n",
    "  instance.pickup_community_area,\n",
    "  instance.timestamp_hour,\n",
    "  prediction.value[OFFSET(0)] AS predicted_trip_count\n",
    "FROM `avisia-certification-ml-yde.chicago_taxis.forecast_output.predictions`\n",
    "ORDER BY timestamp_hour, pickup_community_area\n",
    "\"\"\"\n",
    "\n",
    "df_pred = client.query(query).to_dataframe()\n",
    "df_pred.head()"
   ]
  },
  {
   "cell_type": "markdown",
   "metadata": {},
   "source": [
    "# === 5. Visualisation ===\n"
   ]
  },
  {
   "cell_type": "code",
   "execution_count": null,
   "metadata": {
    "vscode": {
     "languageId": "plaintext"
    }
   },
   "outputs": [],
   "source": [
    "import seaborn as sns\n",
    "import matplotlib.pyplot as plt\n",
    "\n",
    "# Visualiser pour les 5 zones les plus actives\n",
    "top_zones = df_pred[\"pickup_community_area\"].value_counts().index[:5]\n",
    "df_filtered = df_pred[df_pred[\"pickup_community_area\"].isin(top_zones)]\n",
    "\n",
    "plt.figure(figsize=(16, 8))\n",
    "sns.lineplot(data=df_filtered, x=\"timestamp_hour\", y=\"predicted_trip_count\", hue=\"pickup_community_area\")\n",
    "plt.title(\"Prévision du nombre de courses par heure (5 zones principales)\")\n",
    "plt.xlabel(\"Heure\")\n",
    "plt.ylabel(\"Courses prévues\")\n",
    "plt.xticks(rotation=45)\n",
    "plt.tight_layout()\n",
    "plt.show()\n"
   ]
  }
 ],
 "metadata": {
  "language_info": {
   "name": "python"
  }
 },
 "nbformat": 4,
 "nbformat_minor": 2
}
